{
 "cells": [
  {
   "cell_type": "code",
   "execution_count": 1,
   "id": "c9e03f38",
   "metadata": {},
   "outputs": [],
   "source": [
    "import pandas as pd\n",
    "import os\n",
    "import datetime\n",
    "import matplotlib.pyplot as plt"
   ]
  },
  {
   "cell_type": "code",
   "execution_count": 2,
   "id": "6a7699d7",
   "metadata": {},
   "outputs": [
    {
     "data": {
      "text/html": [
       "<div>\n",
       "<style scoped>\n",
       "    .dataframe tbody tr th:only-of-type {\n",
       "        vertical-align: middle;\n",
       "    }\n",
       "\n",
       "    .dataframe tbody tr th {\n",
       "        vertical-align: top;\n",
       "    }\n",
       "\n",
       "    .dataframe thead th {\n",
       "        text-align: right;\n",
       "    }\n",
       "</style>\n",
       "<table border=\"1\" class=\"dataframe\">\n",
       "  <thead>\n",
       "    <tr style=\"text-align: right;\">\n",
       "      <th></th>\n",
       "      <th>City_ID</th>\n",
       "      <th>City</th>\n",
       "      <th>Cloudiness</th>\n",
       "      <th>Country</th>\n",
       "      <th>Date</th>\n",
       "      <th>Humidity</th>\n",
       "      <th>Lat</th>\n",
       "      <th>Lng</th>\n",
       "      <th>Max Temp</th>\n",
       "      <th>Wind Speed</th>\n",
       "    </tr>\n",
       "  </thead>\n",
       "  <tbody>\n",
       "    <tr>\n",
       "      <th>0</th>\n",
       "      <td>0</td>\n",
       "      <td>jacareacanga</td>\n",
       "      <td>0</td>\n",
       "      <td>BR</td>\n",
       "      <td>1528902000</td>\n",
       "      <td>62</td>\n",
       "      <td>-6.22</td>\n",
       "      <td>-57.76</td>\n",
       "      <td>89.60</td>\n",
       "      <td>6.93</td>\n",
       "    </tr>\n",
       "    <tr>\n",
       "      <th>1</th>\n",
       "      <td>1</td>\n",
       "      <td>kaitangata</td>\n",
       "      <td>100</td>\n",
       "      <td>NZ</td>\n",
       "      <td>1528905304</td>\n",
       "      <td>94</td>\n",
       "      <td>-46.28</td>\n",
       "      <td>169.85</td>\n",
       "      <td>42.61</td>\n",
       "      <td>5.64</td>\n",
       "    </tr>\n",
       "    <tr>\n",
       "      <th>2</th>\n",
       "      <td>2</td>\n",
       "      <td>goulburn</td>\n",
       "      <td>20</td>\n",
       "      <td>AU</td>\n",
       "      <td>1528905078</td>\n",
       "      <td>91</td>\n",
       "      <td>-34.75</td>\n",
       "      <td>149.72</td>\n",
       "      <td>44.32</td>\n",
       "      <td>10.11</td>\n",
       "    </tr>\n",
       "    <tr>\n",
       "      <th>3</th>\n",
       "      <td>3</td>\n",
       "      <td>lata</td>\n",
       "      <td>76</td>\n",
       "      <td>IN</td>\n",
       "      <td>1528905305</td>\n",
       "      <td>89</td>\n",
       "      <td>30.78</td>\n",
       "      <td>78.62</td>\n",
       "      <td>59.89</td>\n",
       "      <td>0.94</td>\n",
       "    </tr>\n",
       "    <tr>\n",
       "      <th>4</th>\n",
       "      <td>4</td>\n",
       "      <td>chokurdakh</td>\n",
       "      <td>0</td>\n",
       "      <td>RU</td>\n",
       "      <td>1528905306</td>\n",
       "      <td>88</td>\n",
       "      <td>70.62</td>\n",
       "      <td>147.90</td>\n",
       "      <td>32.17</td>\n",
       "      <td>2.95</td>\n",
       "    </tr>\n",
       "  </tbody>\n",
       "</table>\n",
       "</div>"
      ],
      "text/plain": [
       "   City_ID          City  Cloudiness Country        Date  Humidity    Lat  \\\n",
       "0        0  jacareacanga           0      BR  1528902000        62  -6.22   \n",
       "1        1    kaitangata         100      NZ  1528905304        94 -46.28   \n",
       "2        2      goulburn          20      AU  1528905078        91 -34.75   \n",
       "3        3          lata          76      IN  1528905305        89  30.78   \n",
       "4        4    chokurdakh           0      RU  1528905306        88  70.62   \n",
       "\n",
       "      Lng  Max Temp  Wind Speed  \n",
       "0  -57.76     89.60        6.93  \n",
       "1  169.85     42.61        5.64  \n",
       "2  149.72     44.32       10.11  \n",
       "3   78.62     59.89        0.94  \n",
       "4  147.90     32.17        2.95  "
      ]
     },
     "execution_count": 2,
     "metadata": {},
     "output_type": "execute_result"
    }
   ],
   "source": [
    "# Read CSV containing cities weather data 1\n",
    "city = \".//Resources//cities.csv\"\n",
    "city_df = pd.read_csv(city)\n",
    "city_df.head()"
   ]
  },
  {
   "cell_type": "code",
   "execution_count": 3,
   "id": "7b9052b1",
   "metadata": {},
   "outputs": [
    {
     "data": {
      "text/plain": [
       "City_ID         int64\n",
       "City           object\n",
       "Cloudiness      int64\n",
       "Country        object\n",
       "Date            int64\n",
       "Humidity        int64\n",
       "Lat           float64\n",
       "Lng           float64\n",
       "Max Temp      float64\n",
       "Wind Speed    float64\n",
       "dtype: object"
      ]
     },
     "execution_count": 3,
     "metadata": {},
     "output_type": "execute_result"
    }
   ],
   "source": [
    "#city_df.dtypes # Date is an int64, how to convert to a date ??\n",
    "city_df.dtypes"
   ]
  },
  {
   "cell_type": "code",
   "execution_count": 4,
   "id": "ee44ebb5",
   "metadata": {},
   "outputs": [
    {
     "data": {
      "text/html": [
       "<div>\n",
       "<style scoped>\n",
       "    .dataframe tbody tr th:only-of-type {\n",
       "        vertical-align: middle;\n",
       "    }\n",
       "\n",
       "    .dataframe tbody tr th {\n",
       "        vertical-align: top;\n",
       "    }\n",
       "\n",
       "    .dataframe thead th {\n",
       "        text-align: right;\n",
       "    }\n",
       "</style>\n",
       "<table border=\"1\" class=\"dataframe\">\n",
       "  <thead>\n",
       "    <tr style=\"text-align: right;\">\n",
       "      <th></th>\n",
       "      <th>City_ID</th>\n",
       "      <th>City</th>\n",
       "      <th>Cloudiness</th>\n",
       "      <th>Country</th>\n",
       "      <th>Date</th>\n",
       "      <th>Humidity</th>\n",
       "      <th>Lat</th>\n",
       "      <th>Lng</th>\n",
       "      <th>Max Temp</th>\n",
       "      <th>Wind Speed</th>\n",
       "      <th>new_date</th>\n",
       "    </tr>\n",
       "  </thead>\n",
       "  <tbody>\n",
       "    <tr>\n",
       "      <th>0</th>\n",
       "      <td>0</td>\n",
       "      <td>jacareacanga</td>\n",
       "      <td>0</td>\n",
       "      <td>BR</td>\n",
       "      <td>1528902000</td>\n",
       "      <td>62</td>\n",
       "      <td>-6.22</td>\n",
       "      <td>-57.76</td>\n",
       "      <td>89.60</td>\n",
       "      <td>6.93</td>\n",
       "      <td>2018-06-13 15:00:00</td>\n",
       "    </tr>\n",
       "    <tr>\n",
       "      <th>1</th>\n",
       "      <td>1</td>\n",
       "      <td>kaitangata</td>\n",
       "      <td>100</td>\n",
       "      <td>NZ</td>\n",
       "      <td>1528905304</td>\n",
       "      <td>94</td>\n",
       "      <td>-46.28</td>\n",
       "      <td>169.85</td>\n",
       "      <td>42.61</td>\n",
       "      <td>5.64</td>\n",
       "      <td>2018-06-13 15:55:04</td>\n",
       "    </tr>\n",
       "    <tr>\n",
       "      <th>2</th>\n",
       "      <td>2</td>\n",
       "      <td>goulburn</td>\n",
       "      <td>20</td>\n",
       "      <td>AU</td>\n",
       "      <td>1528905078</td>\n",
       "      <td>91</td>\n",
       "      <td>-34.75</td>\n",
       "      <td>149.72</td>\n",
       "      <td>44.32</td>\n",
       "      <td>10.11</td>\n",
       "      <td>2018-06-13 15:51:18</td>\n",
       "    </tr>\n",
       "    <tr>\n",
       "      <th>3</th>\n",
       "      <td>3</td>\n",
       "      <td>lata</td>\n",
       "      <td>76</td>\n",
       "      <td>IN</td>\n",
       "      <td>1528905305</td>\n",
       "      <td>89</td>\n",
       "      <td>30.78</td>\n",
       "      <td>78.62</td>\n",
       "      <td>59.89</td>\n",
       "      <td>0.94</td>\n",
       "      <td>2018-06-13 15:55:05</td>\n",
       "    </tr>\n",
       "    <tr>\n",
       "      <th>4</th>\n",
       "      <td>4</td>\n",
       "      <td>chokurdakh</td>\n",
       "      <td>0</td>\n",
       "      <td>RU</td>\n",
       "      <td>1528905306</td>\n",
       "      <td>88</td>\n",
       "      <td>70.62</td>\n",
       "      <td>147.90</td>\n",
       "      <td>32.17</td>\n",
       "      <td>2.95</td>\n",
       "      <td>2018-06-13 15:55:06</td>\n",
       "    </tr>\n",
       "  </tbody>\n",
       "</table>\n",
       "</div>"
      ],
      "text/plain": [
       "   City_ID          City  Cloudiness Country        Date  Humidity    Lat  \\\n",
       "0        0  jacareacanga           0      BR  1528902000        62  -6.22   \n",
       "1        1    kaitangata         100      NZ  1528905304        94 -46.28   \n",
       "2        2      goulburn          20      AU  1528905078        91 -34.75   \n",
       "3        3          lata          76      IN  1528905305        89  30.78   \n",
       "4        4    chokurdakh           0      RU  1528905306        88  70.62   \n",
       "\n",
       "      Lng  Max Temp  Wind Speed            new_date  \n",
       "0  -57.76     89.60        6.93 2018-06-13 15:00:00  \n",
       "1  169.85     42.61        5.64 2018-06-13 15:55:04  \n",
       "2  149.72     44.32       10.11 2018-06-13 15:51:18  \n",
       "3   78.62     59.89        0.94 2018-06-13 15:55:05  \n",
       "4  147.90     32.17        2.95 2018-06-13 15:55:06  "
      ]
     },
     "execution_count": 4,
     "metadata": {},
     "output_type": "execute_result"
    }
   ],
   "source": [
    "#city_df.dtypes # Date is an int64, how to convert to a date ??\n",
    "city_df['new_date'] = pd.to_datetime(city_df['Date'], unit = 's')\n",
    "city_df.head()"
   ]
  },
  {
   "cell_type": "code",
   "execution_count": 5,
   "id": "56ae67a0",
   "metadata": {},
   "outputs": [
    {
     "data": {
      "text/plain": [
       "City_ID                int64\n",
       "City                  object\n",
       "Cloudiness             int64\n",
       "Country               object\n",
       "Date                   int64\n",
       "Humidity               int64\n",
       "Lat                  float64\n",
       "Lng                  float64\n",
       "Max Temp             float64\n",
       "Wind Speed           float64\n",
       "new_date      datetime64[ns]\n",
       "dtype: object"
      ]
     },
     "execution_count": 5,
     "metadata": {},
     "output_type": "execute_result"
    }
   ],
   "source": [
    "city_df.dtypes"
   ]
  },
  {
   "cell_type": "code",
   "execution_count": 6,
   "id": "53798ebd",
   "metadata": {},
   "outputs": [
    {
     "name": "stdout",
     "output_type": "stream",
     "text": [
      "     City_ID          City  Cloudiness Country        Date  Humidity    Lat  \\\n",
      "0          0  jacareacanga           0      BR  1528902000        62  -6.22   \n",
      "1          1    kaitangata         100      NZ  1528905304        94 -46.28   \n",
      "2          2      goulburn          20      AU  1528905078        91 -34.75   \n",
      "3          3          lata          76      IN  1528905305        89  30.78   \n",
      "4          4    chokurdakh           0      RU  1528905306        88  70.62   \n",
      "..       ...           ...         ...     ...         ...       ...    ...   \n",
      "542      542        scalea          36      IT  1528905631       100  39.82   \n",
      "543      543    san andres          68      PH  1528905632       100  13.32   \n",
      "544      544        muisne          92      EC  1528905633        84   0.61   \n",
      "545      545           ati          20      TD  1528905633        25  13.21   \n",
      "546      546      san luis           0      AR  1528905472        53 -33.30   \n",
      "\n",
      "        Lng  Max Temp  Wind Speed            new_date new_date2  \n",
      "0    -57.76     89.60        6.93 2018-06-13 15:00:00  20180613  \n",
      "1    169.85     42.61        5.64 2018-06-13 15:55:04  20180613  \n",
      "2    149.72     44.32       10.11 2018-06-13 15:51:18  20180613  \n",
      "3     78.62     59.89        0.94 2018-06-13 15:55:05  20180613  \n",
      "4    147.90     32.17        2.95 2018-06-13 15:55:06  20180613  \n",
      "..      ...       ...         ...                 ...       ...  \n",
      "542   15.79     70.06        5.30 2018-06-13 16:00:31  20180613  \n",
      "543  122.68     83.47       22.64 2018-06-13 16:00:32  20180613  \n",
      "544  -80.02     76.90        4.63 2018-06-13 16:00:33  20180613  \n",
      "545   18.34    104.53        4.97 2018-06-13 16:00:33  20180613  \n",
      "546  -66.34     42.43        2.62 2018-06-13 15:57:52  20180613  \n",
      "\n",
      "[547 rows x 12 columns]\n"
     ]
    }
   ],
   "source": [
    "#ensure date column is easy to filter for\n",
    "city_df['new_date2'] = city_df['new_date'].dt.strftime('%Y%m%d')\n",
    "print(city_df)"
   ]
  },
  {
   "cell_type": "code",
   "execution_count": 7,
   "id": "fc1c1b51",
   "metadata": {},
   "outputs": [
    {
     "name": "stdout",
     "output_type": "stream",
     "text": [
      "     City_ID          City  Cloudiness Country  Humidity    Lat     Lng  \\\n",
      "0          0  jacareacanga           0      BR        62  -6.22  -57.76   \n",
      "1          1    kaitangata         100      NZ        94 -46.28  169.85   \n",
      "2          2      goulburn          20      AU        91 -34.75  149.72   \n",
      "3          3          lata          76      IN        89  30.78   78.62   \n",
      "4          4    chokurdakh           0      RU        88  70.62  147.90   \n",
      "..       ...           ...         ...     ...       ...    ...     ...   \n",
      "542      542        scalea          36      IT       100  39.82   15.79   \n",
      "543      543    san andres          68      PH       100  13.32  122.68   \n",
      "544      544        muisne          92      EC        84   0.61  -80.02   \n",
      "545      545           ati          20      TD        25  13.21   18.34   \n",
      "546      546      san luis           0      AR        53 -33.30  -66.34   \n",
      "\n",
      "     Max Temp  Wind Speed new_date2  \n",
      "0       89.60        6.93  20180613  \n",
      "1       42.61        5.64  20180613  \n",
      "2       44.32       10.11  20180613  \n",
      "3       59.89        0.94  20180613  \n",
      "4       32.17        2.95  20180613  \n",
      "..        ...         ...       ...  \n",
      "542     70.06        5.30  20180613  \n",
      "543     83.47       22.64  20180613  \n",
      "544     76.90        4.63  20180613  \n",
      "545    104.53        4.97  20180613  \n",
      "546     42.43        2.62  20180613  \n",
      "\n",
      "[547 rows x 10 columns]\n"
     ]
    }
   ],
   "source": [
    "#clean up unwanted date columns\n",
    "df2=city_df[['City_ID','City','Cloudiness','Country','Humidity','Lat','Lng','Max Temp','Wind Speed','new_date2']]\n",
    "print(df2)"
   ]
  },
  {
   "cell_type": "code",
   "execution_count": 8,
   "id": "0320419f",
   "metadata": {},
   "outputs": [
    {
     "data": {
      "text/html": [
       "<div>\n",
       "<style scoped>\n",
       "    .dataframe tbody tr th:only-of-type {\n",
       "        vertical-align: middle;\n",
       "    }\n",
       "\n",
       "    .dataframe tbody tr th {\n",
       "        vertical-align: top;\n",
       "    }\n",
       "\n",
       "    .dataframe thead th {\n",
       "        text-align: right;\n",
       "    }\n",
       "</style>\n",
       "<table border=\"1\" class=\"dataframe\">\n",
       "  <thead>\n",
       "    <tr style=\"text-align: right;\">\n",
       "      <th></th>\n",
       "      <th>City_ID</th>\n",
       "      <th>City</th>\n",
       "      <th>Country</th>\n",
       "      <th>Lat</th>\n",
       "      <th>Lon</th>\n",
       "      <th>Date</th>\n",
       "      <th>Clouds (%)</th>\n",
       "      <th>Humidity (%)</th>\n",
       "      <th>Max Temp (F)</th>\n",
       "      <th>Wind Speed (mph)</th>\n",
       "    </tr>\n",
       "  </thead>\n",
       "  <tbody>\n",
       "    <tr>\n",
       "      <th>0</th>\n",
       "      <td>0</td>\n",
       "      <td>jacareacanga</td>\n",
       "      <td>BR</td>\n",
       "      <td>-6.22</td>\n",
       "      <td>-57.76</td>\n",
       "      <td>20180613</td>\n",
       "      <td>0</td>\n",
       "      <td>62</td>\n",
       "      <td>89.60</td>\n",
       "      <td>6.93</td>\n",
       "    </tr>\n",
       "    <tr>\n",
       "      <th>1</th>\n",
       "      <td>1</td>\n",
       "      <td>kaitangata</td>\n",
       "      <td>NZ</td>\n",
       "      <td>-46.28</td>\n",
       "      <td>169.85</td>\n",
       "      <td>20180613</td>\n",
       "      <td>100</td>\n",
       "      <td>94</td>\n",
       "      <td>42.61</td>\n",
       "      <td>5.64</td>\n",
       "    </tr>\n",
       "    <tr>\n",
       "      <th>2</th>\n",
       "      <td>2</td>\n",
       "      <td>goulburn</td>\n",
       "      <td>AU</td>\n",
       "      <td>-34.75</td>\n",
       "      <td>149.72</td>\n",
       "      <td>20180613</td>\n",
       "      <td>20</td>\n",
       "      <td>91</td>\n",
       "      <td>44.32</td>\n",
       "      <td>10.11</td>\n",
       "    </tr>\n",
       "    <tr>\n",
       "      <th>3</th>\n",
       "      <td>3</td>\n",
       "      <td>lata</td>\n",
       "      <td>IN</td>\n",
       "      <td>30.78</td>\n",
       "      <td>78.62</td>\n",
       "      <td>20180613</td>\n",
       "      <td>76</td>\n",
       "      <td>89</td>\n",
       "      <td>59.89</td>\n",
       "      <td>0.94</td>\n",
       "    </tr>\n",
       "    <tr>\n",
       "      <th>4</th>\n",
       "      <td>4</td>\n",
       "      <td>chokurdakh</td>\n",
       "      <td>RU</td>\n",
       "      <td>70.62</td>\n",
       "      <td>147.90</td>\n",
       "      <td>20180613</td>\n",
       "      <td>0</td>\n",
       "      <td>88</td>\n",
       "      <td>32.17</td>\n",
       "      <td>2.95</td>\n",
       "    </tr>\n",
       "    <tr>\n",
       "      <th>...</th>\n",
       "      <td>...</td>\n",
       "      <td>...</td>\n",
       "      <td>...</td>\n",
       "      <td>...</td>\n",
       "      <td>...</td>\n",
       "      <td>...</td>\n",
       "      <td>...</td>\n",
       "      <td>...</td>\n",
       "      <td>...</td>\n",
       "      <td>...</td>\n",
       "    </tr>\n",
       "    <tr>\n",
       "      <th>542</th>\n",
       "      <td>542</td>\n",
       "      <td>scalea</td>\n",
       "      <td>IT</td>\n",
       "      <td>39.82</td>\n",
       "      <td>15.79</td>\n",
       "      <td>20180613</td>\n",
       "      <td>36</td>\n",
       "      <td>100</td>\n",
       "      <td>70.06</td>\n",
       "      <td>5.30</td>\n",
       "    </tr>\n",
       "    <tr>\n",
       "      <th>543</th>\n",
       "      <td>543</td>\n",
       "      <td>san andres</td>\n",
       "      <td>PH</td>\n",
       "      <td>13.32</td>\n",
       "      <td>122.68</td>\n",
       "      <td>20180613</td>\n",
       "      <td>68</td>\n",
       "      <td>100</td>\n",
       "      <td>83.47</td>\n",
       "      <td>22.64</td>\n",
       "    </tr>\n",
       "    <tr>\n",
       "      <th>544</th>\n",
       "      <td>544</td>\n",
       "      <td>muisne</td>\n",
       "      <td>EC</td>\n",
       "      <td>0.61</td>\n",
       "      <td>-80.02</td>\n",
       "      <td>20180613</td>\n",
       "      <td>92</td>\n",
       "      <td>84</td>\n",
       "      <td>76.90</td>\n",
       "      <td>4.63</td>\n",
       "    </tr>\n",
       "    <tr>\n",
       "      <th>545</th>\n",
       "      <td>545</td>\n",
       "      <td>ati</td>\n",
       "      <td>TD</td>\n",
       "      <td>13.21</td>\n",
       "      <td>18.34</td>\n",
       "      <td>20180613</td>\n",
       "      <td>20</td>\n",
       "      <td>25</td>\n",
       "      <td>104.53</td>\n",
       "      <td>4.97</td>\n",
       "    </tr>\n",
       "    <tr>\n",
       "      <th>546</th>\n",
       "      <td>546</td>\n",
       "      <td>san luis</td>\n",
       "      <td>AR</td>\n",
       "      <td>-33.30</td>\n",
       "      <td>-66.34</td>\n",
       "      <td>20180613</td>\n",
       "      <td>0</td>\n",
       "      <td>53</td>\n",
       "      <td>42.43</td>\n",
       "      <td>2.62</td>\n",
       "    </tr>\n",
       "  </tbody>\n",
       "</table>\n",
       "<p>547 rows × 10 columns</p>\n",
       "</div>"
      ],
      "text/plain": [
       "     City_ID          City Country    Lat     Lon      Date  Clouds (%)  \\\n",
       "0          0  jacareacanga      BR  -6.22  -57.76  20180613           0   \n",
       "1          1    kaitangata      NZ -46.28  169.85  20180613         100   \n",
       "2          2      goulburn      AU -34.75  149.72  20180613          20   \n",
       "3          3          lata      IN  30.78   78.62  20180613          76   \n",
       "4          4    chokurdakh      RU  70.62  147.90  20180613           0   \n",
       "..       ...           ...     ...    ...     ...       ...         ...   \n",
       "542      542        scalea      IT  39.82   15.79  20180613          36   \n",
       "543      543    san andres      PH  13.32  122.68  20180613          68   \n",
       "544      544        muisne      EC   0.61  -80.02  20180613          92   \n",
       "545      545           ati      TD  13.21   18.34  20180613          20   \n",
       "546      546      san luis      AR -33.30  -66.34  20180613           0   \n",
       "\n",
       "     Humidity (%)  Max Temp (F)  Wind Speed (mph)  \n",
       "0              62         89.60              6.93  \n",
       "1              94         42.61              5.64  \n",
       "2              91         44.32             10.11  \n",
       "3              89         59.89              0.94  \n",
       "4              88         32.17              2.95  \n",
       "..            ...           ...               ...  \n",
       "542           100         70.06              5.30  \n",
       "543           100         83.47             22.64  \n",
       "544            84         76.90              4.63  \n",
       "545            25        104.53              4.97  \n",
       "546            53         42.43              2.62  \n",
       "\n",
       "[547 rows x 10 columns]"
      ]
     },
     "execution_count": 8,
     "metadata": {},
     "output_type": "execute_result"
    }
   ],
   "source": [
    "# rearrange columns and rename for fun\n",
    "df2 = df2[['City_ID','City','Country','Lat','Lng','new_date2','Cloudiness','Humidity','Max Temp','Wind Speed']]\n",
    "df2 = df2.rename(columns={'Lng': 'Lon','new_date2': 'Date', 'Cloudiness': 'Clouds (%)', \n",
    "                       'Humidity':'Humidity (%)', 'Max Temp': 'Max Temp (F)', 'Wind Speed': 'Wind Speed (mph)'})\n",
    "df2"
   ]
  },
  {
   "cell_type": "code",
   "execution_count": 9,
   "id": "e7de10fa",
   "metadata": {},
   "outputs": [],
   "source": [
    "#export dataframea to html file\n",
    "df2.to_html('.//visualizations/data.html', index=False)\n"
   ]
  },
  {
   "cell_type": "code",
   "execution_count": 28,
   "id": "4fe3c7f5",
   "metadata": {
    "scrolled": true
   },
   "outputs": [
    {
     "data": {
      "image/png": "[encoded data removed]",
      "text/plain": [
       "<Figure size 576x576 with 1 Axes>"
      ]
     },
     "metadata": {
      "needs_background": "light"
     },
     "output_type": "display_data"
    }
   ],
   "source": [
    "df2.plot(kind=\"scatter\", x=\"Lat\", y=\"Clouds (%)\", grid=True, figsize=(8,8), c='midnightblue',\n",
    "              title=\"Cloud Cover vs Latitude\")\n",
    "plt.savefig(\".//assets//images//LatVsClouds.png\")\n",
    "plt.show()\n"
   ]
  },
  {
   "cell_type": "code",
   "execution_count": 25,
   "id": "019d5b34",
   "metadata": {},
   "outputs": [
    {
     "data": {
      "image/png": "[encoded data removed]",
      "text/plain": [
       "<Figure size 576x576 with 1 Axes>"
      ]
     },
     "metadata": {
      "needs_background": "light"
     },
     "output_type": "display_data"
    }
   ],
   "source": [
    "df2.plot(kind=\"scatter\", x=\"Lat\", y=\"Humidity (%)\", grid=True, figsize=(8,8), c='midnightblue',\n",
    "              title=\"Humidity vs Latitude\")\n",
    "plt.savefig(\".//assets//images//LatsVsHumidity.png\")\n",
    "plt.show()"
   ]
  },
  {
   "cell_type": "code",
   "execution_count": 31,
   "id": "e4b6aba8",
   "metadata": {},
   "outputs": [
    {
     "data": {
      "image/png": "[encoded data removed]",
      "text/plain": [
       "<Figure size 576x576 with 1 Axes>"
      ]
     },
     "metadata": {
      "needs_background": "light"
     },
     "output_type": "display_data"
    }
   ],
   "source": [
    "df2.plot(kind=\"scatter\", x=\"Lat\", y=\"Max Temp (F)\", grid=True, figsize=(8,8), c='midnightblue',\n",
    "              title=\"Max Temp (F) vs Latitude\")\n",
    "plt.savefig(\".//assets//images//LatsVsMaxTemp.png\")\n",
    "plt.show()"
   ]
  },
  {
   "cell_type": "code",
   "execution_count": 23,
   "id": "d16415de",
   "metadata": {
    "scrolled": true
   },
   "outputs": [
    {
     "data": {
      "image/png": "[encoded data removed]",
      "text/plain": [
       "<Figure size 576x576 with 1 Axes>"
      ]
     },
     "metadata": {
      "needs_background": "light"
     },
     "output_type": "display_data"
    }
   ],
   "source": [
    "df2.plot(kind=\"scatter\", x=\"Lat\", y=\"Wind Speed (mph)\", grid=True, figsize=(8,8), c='midnightblue',\n",
    "              title=\"Wind Speed (mph) vs Latitude\")\n",
    "plt.savefig(\".//assets//images//LatsVsWindSpeed.png\")\n",
    "plt.show()"
   ]
  },
  {
   "cell_type": "code",
   "execution_count": null,
   "id": "cd308841",
   "metadata": {},
   "outputs": [],
   "source": []
  },
  {
   "cell_type": "code",
   "execution_count": null,
   "id": "493bea6e",
   "metadata": {},
   "outputs": [],
   "source": []
  }
 ],
 "metadata": {
  "kernelspec": {
   "display_name": "Python [conda env:root] *",
   "language": "python",
   "name": "conda-root-py"
  },
  "language_info": {
   "codemirror_mode": {
    "name": "ipython",
    "version": 3
   },
   "file_extension": ".py",
   "mimetype": "text/x-python",
   "name": "python",
   "nbconvert_exporter": "python",
   "pygments_lexer": "ipython3",
   "version": "3.9.12"
  }
 },
 "nbformat": 4,
 "nbformat_minor": 5
}
